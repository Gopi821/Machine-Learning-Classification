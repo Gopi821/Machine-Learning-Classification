{
 "cells": [
  {
   "cell_type": "markdown",
   "id": "2def71f2",
   "metadata": {},
   "source": [
    "# **EDA + Logistic Regression + PCA**\n",
    "\n",
    "This kernel is all about **Principal Component Analysis** - a **Dimensionality Reduction** technique.\n",
    "\n",
    "I have discussed **Principal Component Analysis (PCA)**. In particular, I have introduced PCA, explained variance ratio, Logistic \n",
    "Regression with PCA, find right number of dimensions and plotting explained variance ratio with number of dimensions.\n",
    "\n",
    "I have used the **adult** data set for this kernel. This dataset is very small for PCA purpose. My main purpose is to demonstrate \n",
    "PCA implementation with this dataset.\n"
   ]
  },
  {
   "cell_type": "markdown",
   "id": "456df725",
   "metadata": {},
   "source": [
    "## Table of Contents\n",
    "\n",
    "The contents of this kernel is divided into various topics which are as follows:-\n",
    "\n",
    "-   The Curse of Dimensionality\n",
    "-\tIntroduction to Principal Component Analysis\n",
    "-\tImport Python libraries\n",
    "-\tImport dataset\n",
    "-\tExploratory data analysis\n",
    "-\tSplit data into training and test set\n",
    "-\tFeature engineering\n",
    "-\tFeature scaling\n",
    "-\tLogistic regression model with all features\n",
    "-\tLogistic Regression with PCA\n",
    "-\tSelect right number of dimensions\n",
    "-\tPlot explained variance ratio with number of dimensions\n",
    "-\tConclusion"
   ]
  },
  {
   "cell_type": "markdown",
   "id": "28d6fc81",
   "metadata": {},
   "source": [
    "## The Curse of Dimensionality\n",
    "\n",
    "Generally, real world datasets contain thousands or millions of features to train for. This is very time consuming task as this \n",
    "makes training extremely slow. In such cases, it is very difficult to find a good solution. This problem is often referred to as the \n",
    "curse of dimensionality.\n",
    "\n",
    "\n",
    "**The curse of dimensionality** refers to various phenomena that arise when we analyze and organize data in high dimensional spaces \n",
    "(often with hundreds or thousands of dimensions) that do not occur in low-dimensional settings. The problem is that when the \n",
    "dimensionality increases, the volume of the space increases so fast that the available data become sparse. This sparsity is \n",
    "problematic for any method that requires statistical significance.\n",
    "\n",
    "\n",
    "In real-world problems, it is often possible to reduce the number of dimensions considerably. This process is called \n",
    "**dimensionality reduction**. It refers to the process of reducing the number of dimensions under consideration by obtaining a set \n",
    "of principal variables. It helps to speed up training and is also extremely useful for data visualization.\n",
    "\n",
    "\n",
    "The most popular dimensionality reduction technique is Principal Component Analysis (PCA), which is discussed below."
   ]
  },
  {
   "cell_type": "markdown",
   "id": "ee1decdc",
   "metadata": {},
   "source": [
    "## Introduction to Principal Component Analysis (PCA)\n",
    "\n",
    "\n",
    "**Principal Component Analysis (PCA)** is a dimensionality reduction technique that can be used to reduce a larger set of feature \n",
    "variables into a smaller set that still contains most of the variance in the larger set. \n",
    "\n",
    "### Preserve the variance\n",
    "\n",
    "PCA, first identifies the hyperplane that lies closest to the data and then it projects the data onto it. Before, we can project the \n",
    "training set onto a lower-dimensional hyperplane, we need to select the right hyperplane. The projection can be done in such a way \n",
    "so as to preserve the maximum variance. This is the idea behind PCA.\n",
    "\n",
    "### Principal Components\n",
    "\n",
    "PCA identifies the axes that accounts for the maximum amount of cumulative sum of variance in the training set. These are called \n",
    "Principal Components. PCA assumes that the dataset is centered around the origin. Scikit-Learn’s PCA classes take care of centering \n",
    "the data automatically.\n",
    "\n",
    "### Projecting down to d Dimensions\n",
    "\n",
    "Once, we have identified all the principal components, we can reduce the dimensionality of the dataset down to d dimensions by \n",
    "projecting it onto the hyperplane defined by the first d principal components. This ensures that the projection will preserve as \n",
    "much variance as possible.\n",
    "\n",
    "Now, let's get to the implementation."
   ]
  },
  {
   "cell_type": "markdown",
   "id": "b4f8d095",
   "metadata": {},
   "source": [
    "## Import Python libraries"
   ]
  },
  {
   "cell_type": "code",
   "execution_count": 3,
   "id": "1c179417",
   "metadata": {},
   "outputs": [],
   "source": [
    "import numpy as np\n",
    "import pandas as pd\n",
    "import matplotlib.pyplot as plt\n",
    "import seaborn as sns\n",
    "%matplotlib inline"
   ]
  },
  {
   "cell_type": "code",
   "execution_count": 4,
   "id": "6e089845",
   "metadata": {},
   "outputs": [],
   "source": [
    "# ignore warnings\n",
    "import warnings\n",
    "warnings.filterwarnings('ignore')"
   ]
  },
  {
   "cell_type": "markdown",
   "id": "100bc788",
   "metadata": {},
   "source": [
    "## Import dataset"
   ]
  },
  {
   "cell_type": "code",
   "execution_count": 5,
   "id": "796515d1",
   "metadata": {},
   "outputs": [],
   "source": [
    "df = pd.read_csv(r'C:\\Users\\Gopi Reddy\\NIT7PM\\APR\\Logistic Regression with PCA\\adult.csv')"
   ]
  },
  {
   "cell_type": "markdown",
   "id": "9fff654a",
   "metadata": {},
   "source": [
    "## Exploratory Data Analysis"
   ]
  },
  {
   "cell_type": "code",
   "execution_count": 6,
   "id": "5ff8b32b",
   "metadata": {},
   "outputs": [
    {
     "data": {
      "text/plain": [
       "(32561, 15)"
      ]
     },
     "execution_count": 6,
     "metadata": {},
     "output_type": "execute_result"
    }
   ],
   "source": [
    "df.shape  #Check shape of dataset"
   ]
  },
  {
   "cell_type": "code",
   "execution_count": 7,
   "id": "5f78e326",
   "metadata": {},
   "outputs": [
    {
     "data": {
      "text/html": [
       "<div>\n",
       "<style scoped>\n",
       "    .dataframe tbody tr th:only-of-type {\n",
       "        vertical-align: middle;\n",
       "    }\n",
       "\n",
       "    .dataframe tbody tr th {\n",
       "        vertical-align: top;\n",
       "    }\n",
       "\n",
       "    .dataframe thead th {\n",
       "        text-align: right;\n",
       "    }\n",
       "</style>\n",
       "<table border=\"1\" class=\"dataframe\">\n",
       "  <thead>\n",
       "    <tr style=\"text-align: right;\">\n",
       "      <th></th>\n",
       "      <th>age</th>\n",
       "      <th>workclass</th>\n",
       "      <th>fnlwgt</th>\n",
       "      <th>education</th>\n",
       "      <th>education.num</th>\n",
       "      <th>marital.status</th>\n",
       "      <th>occupation</th>\n",
       "      <th>relationship</th>\n",
       "      <th>race</th>\n",
       "      <th>sex</th>\n",
       "      <th>capital.gain</th>\n",
       "      <th>capital.loss</th>\n",
       "      <th>hours.per.week</th>\n",
       "      <th>native.country</th>\n",
       "      <th>income</th>\n",
       "    </tr>\n",
       "  </thead>\n",
       "  <tbody>\n",
       "    <tr>\n",
       "      <th>0</th>\n",
       "      <td>90</td>\n",
       "      <td>?</td>\n",
       "      <td>77053</td>\n",
       "      <td>HS-grad</td>\n",
       "      <td>9</td>\n",
       "      <td>Widowed</td>\n",
       "      <td>?</td>\n",
       "      <td>Not-in-family</td>\n",
       "      <td>White</td>\n",
       "      <td>Female</td>\n",
       "      <td>0</td>\n",
       "      <td>4356</td>\n",
       "      <td>40</td>\n",
       "      <td>United-States</td>\n",
       "      <td>&lt;=50K</td>\n",
       "    </tr>\n",
       "    <tr>\n",
       "      <th>1</th>\n",
       "      <td>82</td>\n",
       "      <td>Private</td>\n",
       "      <td>132870</td>\n",
       "      <td>HS-grad</td>\n",
       "      <td>9</td>\n",
       "      <td>Widowed</td>\n",
       "      <td>Exec-managerial</td>\n",
       "      <td>Not-in-family</td>\n",
       "      <td>White</td>\n",
       "      <td>Female</td>\n",
       "      <td>0</td>\n",
       "      <td>4356</td>\n",
       "      <td>18</td>\n",
       "      <td>United-States</td>\n",
       "      <td>&lt;=50K</td>\n",
       "    </tr>\n",
       "    <tr>\n",
       "      <th>2</th>\n",
       "      <td>66</td>\n",
       "      <td>?</td>\n",
       "      <td>186061</td>\n",
       "      <td>Some-college</td>\n",
       "      <td>10</td>\n",
       "      <td>Widowed</td>\n",
       "      <td>?</td>\n",
       "      <td>Unmarried</td>\n",
       "      <td>Black</td>\n",
       "      <td>Female</td>\n",
       "      <td>0</td>\n",
       "      <td>4356</td>\n",
       "      <td>40</td>\n",
       "      <td>United-States</td>\n",
       "      <td>&lt;=50K</td>\n",
       "    </tr>\n",
       "    <tr>\n",
       "      <th>3</th>\n",
       "      <td>54</td>\n",
       "      <td>Private</td>\n",
       "      <td>140359</td>\n",
       "      <td>7th-8th</td>\n",
       "      <td>4</td>\n",
       "      <td>Divorced</td>\n",
       "      <td>Machine-op-inspct</td>\n",
       "      <td>Unmarried</td>\n",
       "      <td>White</td>\n",
       "      <td>Female</td>\n",
       "      <td>0</td>\n",
       "      <td>3900</td>\n",
       "      <td>40</td>\n",
       "      <td>United-States</td>\n",
       "      <td>&lt;=50K</td>\n",
       "    </tr>\n",
       "    <tr>\n",
       "      <th>4</th>\n",
       "      <td>41</td>\n",
       "      <td>Private</td>\n",
       "      <td>264663</td>\n",
       "      <td>Some-college</td>\n",
       "      <td>10</td>\n",
       "      <td>Separated</td>\n",
       "      <td>Prof-specialty</td>\n",
       "      <td>Own-child</td>\n",
       "      <td>White</td>\n",
       "      <td>Female</td>\n",
       "      <td>0</td>\n",
       "      <td>3900</td>\n",
       "      <td>40</td>\n",
       "      <td>United-States</td>\n",
       "      <td>&lt;=50K</td>\n",
       "    </tr>\n",
       "  </tbody>\n",
       "</table>\n",
       "</div>"
      ],
      "text/plain": [
       "   age workclass  fnlwgt     education  education.num marital.status  \\\n",
       "0   90         ?   77053       HS-grad              9        Widowed   \n",
       "1   82   Private  132870       HS-grad              9        Widowed   \n",
       "2   66         ?  186061  Some-college             10        Widowed   \n",
       "3   54   Private  140359       7th-8th              4       Divorced   \n",
       "4   41   Private  264663  Some-college             10      Separated   \n",
       "\n",
       "          occupation   relationship   race     sex  capital.gain  \\\n",
       "0                  ?  Not-in-family  White  Female             0   \n",
       "1    Exec-managerial  Not-in-family  White  Female             0   \n",
       "2                  ?      Unmarried  Black  Female             0   \n",
       "3  Machine-op-inspct      Unmarried  White  Female             0   \n",
       "4     Prof-specialty      Own-child  White  Female             0   \n",
       "\n",
       "   capital.loss  hours.per.week native.country income  \n",
       "0          4356              40  United-States  <=50K  \n",
       "1          4356              18  United-States  <=50K  \n",
       "2          4356              40  United-States  <=50K  \n",
       "3          3900              40  United-States  <=50K  \n",
       "4          3900              40  United-States  <=50K  "
      ]
     },
     "execution_count": 7,
     "metadata": {},
     "output_type": "execute_result"
    }
   ],
   "source": [
    "df.head() # Preview dataset"
   ]
  },
  {
   "cell_type": "code",
   "execution_count": 8,
   "id": "7fdeeca6",
   "metadata": {},
   "outputs": [
    {
     "name": "stdout",
     "output_type": "stream",
     "text": [
      "<class 'pandas.core.frame.DataFrame'>\n",
      "RangeIndex: 32561 entries, 0 to 32560\n",
      "Data columns (total 15 columns):\n",
      " #   Column          Non-Null Count  Dtype \n",
      "---  ------          --------------  ----- \n",
      " 0   age             32561 non-null  int64 \n",
      " 1   workclass       32561 non-null  object\n",
      " 2   fnlwgt          32561 non-null  int64 \n",
      " 3   education       32561 non-null  object\n",
      " 4   education.num   32561 non-null  int64 \n",
      " 5   marital.status  32561 non-null  object\n",
      " 6   occupation      32561 non-null  object\n",
      " 7   relationship    32561 non-null  object\n",
      " 8   race            32561 non-null  object\n",
      " 9   sex             32561 non-null  object\n",
      " 10  capital.gain    32561 non-null  int64 \n",
      " 11  capital.loss    32561 non-null  int64 \n",
      " 12  hours.per.week  32561 non-null  int64 \n",
      " 13  native.country  32561 non-null  object\n",
      " 14  income          32561 non-null  object\n",
      "dtypes: int64(6), object(9)\n",
      "memory usage: 3.7+ MB\n"
     ]
    }
   ],
   "source": [
    "df.info() # Summary of dataframe"
   ]
  },
  {
   "cell_type": "markdown",
   "id": "5f2b9deb",
   "metadata": {},
   "source": [
    "### Encode `?` as `NaNs`"
   ]
  },
  {
   "cell_type": "code",
   "execution_count": 9,
   "id": "b6d55f7d",
   "metadata": {},
   "outputs": [],
   "source": [
    "df[df == '?'] = np.nan"
   ]
  },
  {
   "cell_type": "code",
   "execution_count": 10,
   "id": "3b552d34",
   "metadata": {},
   "outputs": [
    {
     "name": "stdout",
     "output_type": "stream",
     "text": [
      "<class 'pandas.core.frame.DataFrame'>\n",
      "RangeIndex: 32561 entries, 0 to 32560\n",
      "Data columns (total 15 columns):\n",
      " #   Column          Non-Null Count  Dtype \n",
      "---  ------          --------------  ----- \n",
      " 0   age             32561 non-null  int64 \n",
      " 1   workclass       30725 non-null  object\n",
      " 2   fnlwgt          32561 non-null  int64 \n",
      " 3   education       32561 non-null  object\n",
      " 4   education.num   32561 non-null  int64 \n",
      " 5   marital.status  32561 non-null  object\n",
      " 6   occupation      30718 non-null  object\n",
      " 7   relationship    32561 non-null  object\n",
      " 8   race            32561 non-null  object\n",
      " 9   sex             32561 non-null  object\n",
      " 10  capital.gain    32561 non-null  int64 \n",
      " 11  capital.loss    32561 non-null  int64 \n",
      " 12  hours.per.week  32561 non-null  int64 \n",
      " 13  native.country  31978 non-null  object\n",
      " 14  income          32561 non-null  object\n",
      "dtypes: int64(6), object(9)\n",
      "memory usage: 3.7+ MB\n"
     ]
    }
   ],
   "source": [
    "df.info()"
   ]
  },
  {
   "cell_type": "markdown",
   "id": "4c5a8be4",
   "metadata": {},
   "source": [
    "- In `workclass`, `occupation` and `native.country` contain missing values.\n",
    "- All of these variables are categorical data type.\n",
    "- So, I will impute the missing values with the most frequent value- the mode."
   ]
  },
  {
   "cell_type": "markdown",
   "id": "ffbde997",
   "metadata": {},
   "source": [
    "### Impute missing values with mode"
   ]
  },
  {
   "cell_type": "code",
   "execution_count": 11,
   "id": "b1d8fcf7",
   "metadata": {},
   "outputs": [],
   "source": [
    "df[['workclass', 'occupation', 'native.country']] = df[['workclass', 'occupation', 'native.country']].apply(\n",
    "    lambda col: col.fillna(col.mode()[0])\n",
    ")\n"
   ]
  },
  {
   "cell_type": "code",
   "execution_count": 12,
   "id": "e8bf10c9",
   "metadata": {},
   "outputs": [
    {
     "data": {
      "text/plain": [
       "age               0\n",
       "workclass         0\n",
       "fnlwgt            0\n",
       "education         0\n",
       "education.num     0\n",
       "marital.status    0\n",
       "occupation        0\n",
       "relationship      0\n",
       "race              0\n",
       "sex               0\n",
       "capital.gain      0\n",
       "capital.loss      0\n",
       "hours.per.week    0\n",
       "native.country    0\n",
       "income            0\n",
       "dtype: int64"
      ]
     },
     "execution_count": 12,
     "metadata": {},
     "output_type": "execute_result"
    }
   ],
   "source": [
    "df.isnull().sum()"
   ]
  },
  {
   "cell_type": "markdown",
   "id": "438e573e",
   "metadata": {},
   "source": [
    "### Setting feature vector and target variable"
   ]
  },
  {
   "cell_type": "code",
   "execution_count": 13,
   "id": "cd2bbdfc",
   "metadata": {},
   "outputs": [],
   "source": [
    "X = df.drop(['income'], axis=1)\n",
    "\n",
    "y = df['income']"
   ]
  },
  {
   "cell_type": "code",
   "execution_count": 14,
   "id": "1e599ca7",
   "metadata": {},
   "outputs": [
    {
     "data": {
      "text/html": [
       "<div>\n",
       "<style scoped>\n",
       "    .dataframe tbody tr th:only-of-type {\n",
       "        vertical-align: middle;\n",
       "    }\n",
       "\n",
       "    .dataframe tbody tr th {\n",
       "        vertical-align: top;\n",
       "    }\n",
       "\n",
       "    .dataframe thead th {\n",
       "        text-align: right;\n",
       "    }\n",
       "</style>\n",
       "<table border=\"1\" class=\"dataframe\">\n",
       "  <thead>\n",
       "    <tr style=\"text-align: right;\">\n",
       "      <th></th>\n",
       "      <th>age</th>\n",
       "      <th>workclass</th>\n",
       "      <th>fnlwgt</th>\n",
       "      <th>education</th>\n",
       "      <th>education.num</th>\n",
       "      <th>marital.status</th>\n",
       "      <th>occupation</th>\n",
       "      <th>relationship</th>\n",
       "      <th>race</th>\n",
       "      <th>sex</th>\n",
       "      <th>capital.gain</th>\n",
       "      <th>capital.loss</th>\n",
       "      <th>hours.per.week</th>\n",
       "      <th>native.country</th>\n",
       "    </tr>\n",
       "  </thead>\n",
       "  <tbody>\n",
       "    <tr>\n",
       "      <th>0</th>\n",
       "      <td>90</td>\n",
       "      <td>Private</td>\n",
       "      <td>77053</td>\n",
       "      <td>HS-grad</td>\n",
       "      <td>9</td>\n",
       "      <td>Widowed</td>\n",
       "      <td>Prof-specialty</td>\n",
       "      <td>Not-in-family</td>\n",
       "      <td>White</td>\n",
       "      <td>Female</td>\n",
       "      <td>0</td>\n",
       "      <td>4356</td>\n",
       "      <td>40</td>\n",
       "      <td>United-States</td>\n",
       "    </tr>\n",
       "    <tr>\n",
       "      <th>1</th>\n",
       "      <td>82</td>\n",
       "      <td>Private</td>\n",
       "      <td>132870</td>\n",
       "      <td>HS-grad</td>\n",
       "      <td>9</td>\n",
       "      <td>Widowed</td>\n",
       "      <td>Exec-managerial</td>\n",
       "      <td>Not-in-family</td>\n",
       "      <td>White</td>\n",
       "      <td>Female</td>\n",
       "      <td>0</td>\n",
       "      <td>4356</td>\n",
       "      <td>18</td>\n",
       "      <td>United-States</td>\n",
       "    </tr>\n",
       "    <tr>\n",
       "      <th>2</th>\n",
       "      <td>66</td>\n",
       "      <td>Private</td>\n",
       "      <td>186061</td>\n",
       "      <td>Some-college</td>\n",
       "      <td>10</td>\n",
       "      <td>Widowed</td>\n",
       "      <td>Prof-specialty</td>\n",
       "      <td>Unmarried</td>\n",
       "      <td>Black</td>\n",
       "      <td>Female</td>\n",
       "      <td>0</td>\n",
       "      <td>4356</td>\n",
       "      <td>40</td>\n",
       "      <td>United-States</td>\n",
       "    </tr>\n",
       "    <tr>\n",
       "      <th>3</th>\n",
       "      <td>54</td>\n",
       "      <td>Private</td>\n",
       "      <td>140359</td>\n",
       "      <td>7th-8th</td>\n",
       "      <td>4</td>\n",
       "      <td>Divorced</td>\n",
       "      <td>Machine-op-inspct</td>\n",
       "      <td>Unmarried</td>\n",
       "      <td>White</td>\n",
       "      <td>Female</td>\n",
       "      <td>0</td>\n",
       "      <td>3900</td>\n",
       "      <td>40</td>\n",
       "      <td>United-States</td>\n",
       "    </tr>\n",
       "    <tr>\n",
       "      <th>4</th>\n",
       "      <td>41</td>\n",
       "      <td>Private</td>\n",
       "      <td>264663</td>\n",
       "      <td>Some-college</td>\n",
       "      <td>10</td>\n",
       "      <td>Separated</td>\n",
       "      <td>Prof-specialty</td>\n",
       "      <td>Own-child</td>\n",
       "      <td>White</td>\n",
       "      <td>Female</td>\n",
       "      <td>0</td>\n",
       "      <td>3900</td>\n",
       "      <td>40</td>\n",
       "      <td>United-States</td>\n",
       "    </tr>\n",
       "  </tbody>\n",
       "</table>\n",
       "</div>"
      ],
      "text/plain": [
       "   age workclass  fnlwgt     education  education.num marital.status  \\\n",
       "0   90   Private   77053       HS-grad              9        Widowed   \n",
       "1   82   Private  132870       HS-grad              9        Widowed   \n",
       "2   66   Private  186061  Some-college             10        Widowed   \n",
       "3   54   Private  140359       7th-8th              4       Divorced   \n",
       "4   41   Private  264663  Some-college             10      Separated   \n",
       "\n",
       "          occupation   relationship   race     sex  capital.gain  \\\n",
       "0     Prof-specialty  Not-in-family  White  Female             0   \n",
       "1    Exec-managerial  Not-in-family  White  Female             0   \n",
       "2     Prof-specialty      Unmarried  Black  Female             0   \n",
       "3  Machine-op-inspct      Unmarried  White  Female             0   \n",
       "4     Prof-specialty      Own-child  White  Female             0   \n",
       "\n",
       "   capital.loss  hours.per.week native.country  \n",
       "0          4356              40  United-States  \n",
       "1          4356              18  United-States  \n",
       "2          4356              40  United-States  \n",
       "3          3900              40  United-States  \n",
       "4          3900              40  United-States  "
      ]
     },
     "execution_count": 14,
     "metadata": {},
     "output_type": "execute_result"
    }
   ],
   "source": [
    "X.head()"
   ]
  },
  {
   "cell_type": "markdown",
   "id": "7cb16355",
   "metadata": {},
   "source": [
    "## Split data into separate training and test set"
   ]
  },
  {
   "cell_type": "code",
   "execution_count": 15,
   "id": "e4326769",
   "metadata": {},
   "outputs": [],
   "source": [
    "from sklearn.model_selection import train_test_split\n",
    "\n",
    "X_train, X_test, y_train, y_test = train_test_split(X, y, test_size = 0.3, random_state = 0)"
   ]
  },
  {
   "cell_type": "markdown",
   "id": "01ee109c",
   "metadata": {},
   "source": [
    "## Feature Engineering"
   ]
  },
  {
   "cell_type": "markdown",
   "id": "57099e73",
   "metadata": {},
   "source": [
    "### Encode categorical variables"
   ]
  },
  {
   "cell_type": "code",
   "execution_count": 16,
   "id": "e0348332",
   "metadata": {},
   "outputs": [],
   "source": [
    "from sklearn import preprocessing\n",
    "\n",
    "categorical = ['workclass', 'education', 'marital.status', 'occupation', 'relationship', 'race', 'sex', 'native.country']\n",
    "for feature in categorical:\n",
    "        le = preprocessing.LabelEncoder()\n",
    "        X_train[feature] = le.fit_transform(X_train[feature])\n",
    "        X_test[feature] = le.transform(X_test[feature])"
   ]
  },
  {
   "cell_type": "markdown",
   "id": "01a85f9d",
   "metadata": {},
   "source": [
    "## Feature Scaling"
   ]
  },
  {
   "cell_type": "code",
   "execution_count": 17,
   "id": "11912f22",
   "metadata": {},
   "outputs": [],
   "source": [
    "from sklearn.preprocessing import StandardScaler\n",
    "\n",
    "scaler = StandardScaler()\n",
    "\n",
    "X_train = pd.DataFrame(scaler.fit_transform(X_train), columns = X.columns)\n",
    "\n",
    "X_test = pd.DataFrame(scaler.transform(X_test), columns = X.columns)"
   ]
  },
  {
   "cell_type": "code",
   "execution_count": 18,
   "id": "0e1e299f",
   "metadata": {},
   "outputs": [
    {
     "data": {
      "text/html": [
       "<div>\n",
       "<style scoped>\n",
       "    .dataframe tbody tr th:only-of-type {\n",
       "        vertical-align: middle;\n",
       "    }\n",
       "\n",
       "    .dataframe tbody tr th {\n",
       "        vertical-align: top;\n",
       "    }\n",
       "\n",
       "    .dataframe thead th {\n",
       "        text-align: right;\n",
       "    }\n",
       "</style>\n",
       "<table border=\"1\" class=\"dataframe\">\n",
       "  <thead>\n",
       "    <tr style=\"text-align: right;\">\n",
       "      <th></th>\n",
       "      <th>age</th>\n",
       "      <th>workclass</th>\n",
       "      <th>fnlwgt</th>\n",
       "      <th>education</th>\n",
       "      <th>education.num</th>\n",
       "      <th>marital.status</th>\n",
       "      <th>occupation</th>\n",
       "      <th>relationship</th>\n",
       "      <th>race</th>\n",
       "      <th>sex</th>\n",
       "      <th>capital.gain</th>\n",
       "      <th>capital.loss</th>\n",
       "      <th>hours.per.week</th>\n",
       "      <th>native.country</th>\n",
       "    </tr>\n",
       "  </thead>\n",
       "  <tbody>\n",
       "    <tr>\n",
       "      <th>0</th>\n",
       "      <td>0.101484</td>\n",
       "      <td>2.600478</td>\n",
       "      <td>-1.494279</td>\n",
       "      <td>-0.332263</td>\n",
       "      <td>1.133894</td>\n",
       "      <td>-0.402341</td>\n",
       "      <td>-0.782234</td>\n",
       "      <td>2.214196</td>\n",
       "      <td>0.39298</td>\n",
       "      <td>-1.430470</td>\n",
       "      <td>-0.145189</td>\n",
       "      <td>-0.217407</td>\n",
       "      <td>-1.662414</td>\n",
       "      <td>0.262317</td>\n",
       "    </tr>\n",
       "    <tr>\n",
       "      <th>1</th>\n",
       "      <td>0.028248</td>\n",
       "      <td>-1.884720</td>\n",
       "      <td>0.438778</td>\n",
       "      <td>0.184396</td>\n",
       "      <td>-0.423425</td>\n",
       "      <td>-0.402341</td>\n",
       "      <td>-0.026696</td>\n",
       "      <td>-0.899410</td>\n",
       "      <td>0.39298</td>\n",
       "      <td>0.699071</td>\n",
       "      <td>-0.145189</td>\n",
       "      <td>-0.217407</td>\n",
       "      <td>-0.200753</td>\n",
       "      <td>0.262317</td>\n",
       "    </tr>\n",
       "    <tr>\n",
       "      <th>2</th>\n",
       "      <td>0.247956</td>\n",
       "      <td>-0.090641</td>\n",
       "      <td>0.045292</td>\n",
       "      <td>1.217715</td>\n",
       "      <td>-0.034095</td>\n",
       "      <td>0.926666</td>\n",
       "      <td>-0.782234</td>\n",
       "      <td>-0.276689</td>\n",
       "      <td>0.39298</td>\n",
       "      <td>-1.430470</td>\n",
       "      <td>-0.145189</td>\n",
       "      <td>-0.217407</td>\n",
       "      <td>-0.038346</td>\n",
       "      <td>0.262317</td>\n",
       "    </tr>\n",
       "    <tr>\n",
       "      <th>3</th>\n",
       "      <td>-0.850587</td>\n",
       "      <td>-1.884720</td>\n",
       "      <td>0.793152</td>\n",
       "      <td>0.184396</td>\n",
       "      <td>-0.423425</td>\n",
       "      <td>0.926666</td>\n",
       "      <td>-0.530388</td>\n",
       "      <td>0.968753</td>\n",
       "      <td>0.39298</td>\n",
       "      <td>0.699071</td>\n",
       "      <td>-0.145189</td>\n",
       "      <td>-0.217407</td>\n",
       "      <td>-0.038346</td>\n",
       "      <td>0.262317</td>\n",
       "    </tr>\n",
       "    <tr>\n",
       "      <th>4</th>\n",
       "      <td>-0.044989</td>\n",
       "      <td>-2.781760</td>\n",
       "      <td>-0.853275</td>\n",
       "      <td>0.442726</td>\n",
       "      <td>1.523223</td>\n",
       "      <td>-0.402341</td>\n",
       "      <td>-0.782234</td>\n",
       "      <td>-0.899410</td>\n",
       "      <td>0.39298</td>\n",
       "      <td>0.699071</td>\n",
       "      <td>-0.145189</td>\n",
       "      <td>-0.217407</td>\n",
       "      <td>-0.038346</td>\n",
       "      <td>0.262317</td>\n",
       "    </tr>\n",
       "  </tbody>\n",
       "</table>\n",
       "</div>"
      ],
      "text/plain": [
       "        age  workclass    fnlwgt  education  education.num  marital.status  \\\n",
       "0  0.101484   2.600478 -1.494279  -0.332263       1.133894       -0.402341   \n",
       "1  0.028248  -1.884720  0.438778   0.184396      -0.423425       -0.402341   \n",
       "2  0.247956  -0.090641  0.045292   1.217715      -0.034095        0.926666   \n",
       "3 -0.850587  -1.884720  0.793152   0.184396      -0.423425        0.926666   \n",
       "4 -0.044989  -2.781760 -0.853275   0.442726       1.523223       -0.402341   \n",
       "\n",
       "   occupation  relationship     race       sex  capital.gain  capital.loss  \\\n",
       "0   -0.782234      2.214196  0.39298 -1.430470     -0.145189     -0.217407   \n",
       "1   -0.026696     -0.899410  0.39298  0.699071     -0.145189     -0.217407   \n",
       "2   -0.782234     -0.276689  0.39298 -1.430470     -0.145189     -0.217407   \n",
       "3   -0.530388      0.968753  0.39298  0.699071     -0.145189     -0.217407   \n",
       "4   -0.782234     -0.899410  0.39298  0.699071     -0.145189     -0.217407   \n",
       "\n",
       "   hours.per.week  native.country  \n",
       "0       -1.662414        0.262317  \n",
       "1       -0.200753        0.262317  \n",
       "2       -0.038346        0.262317  \n",
       "3       -0.038346        0.262317  \n",
       "4       -0.038346        0.262317  "
      ]
     },
     "execution_count": 18,
     "metadata": {},
     "output_type": "execute_result"
    }
   ],
   "source": [
    "X_train.head()"
   ]
  },
  {
   "cell_type": "markdown",
   "id": "a16070d9",
   "metadata": {},
   "source": [
    "## Logistic Regression model with all features"
   ]
  },
  {
   "cell_type": "code",
   "execution_count": 19,
   "id": "ded5b68e",
   "metadata": {},
   "outputs": [
    {
     "name": "stdout",
     "output_type": "stream",
     "text": [
      "Logistic Regression accuracy score with all the features: 0.8218\n"
     ]
    }
   ],
   "source": [
    "from sklearn.linear_model import LogisticRegression\n",
    "from sklearn.metrics import accuracy_score\n",
    "\n",
    "logreg = LogisticRegression()\n",
    "logreg.fit(X_train, y_train)\n",
    "y_pred = logreg.predict(X_test)\n",
    "\n",
    "print('Logistic Regression accuracy score with all the features: {0:0.4f}'. format(accuracy_score(y_test, y_pred)))"
   ]
  },
  {
   "cell_type": "markdown",
   "id": "4792b6b2",
   "metadata": {},
   "source": [
    "## Logistic Regression with PCA\n",
    "\n",
    "Scikit-Learn's PCA class implements PCA algorithm using the code below. Before diving deep, I will explain another important concept \n",
    "called explained variance ratio.\n",
    "\n",
    "\n",
    "### Explained Variance Ratio\n",
    "\n",
    "A very useful piece of information is the **explained variance ratio** of each principal component. It is available via the \n",
    "`explained_variance_ratio_ ` variable. It indicates the proportion of the dataset’s variance that lies along the axis of each \n",
    "principal component.\n",
    "\n",
    "Now, let's get to the PCA implementation."
   ]
  },
  {
   "cell_type": "code",
   "execution_count": 20,
   "id": "f34e6e83",
   "metadata": {},
   "outputs": [
    {
     "data": {
      "text/plain": [
       "array([0.14757168, 0.10182915, 0.08147199, 0.07880174, 0.07463545,\n",
       "       0.07274281, 0.07009602, 0.06750902, 0.0647268 , 0.06131155,\n",
       "       0.06084207, 0.04839584, 0.04265038, 0.02741548])"
      ]
     },
     "execution_count": 20,
     "metadata": {},
     "output_type": "execute_result"
    }
   ],
   "source": [
    "from sklearn.decomposition import PCA\n",
    "pca = PCA()\n",
    "X_train = pca.fit_transform(X_train)\n",
    "pca.explained_variance_ratio_"
   ]
  },
  {
   "cell_type": "markdown",
   "id": "f804f1e4",
   "metadata": {},
   "source": [
    "### Comment\n",
    "\n",
    "- We can see that approximately 97.25% of variance is explained by the first 13 variables. \n",
    "\n",
    "- Only 2.75% of variance is explained by the last variable. So, we can assume that it carries little information. \n",
    "\n",
    "- So, I will drop it, train the model again and calculate the accuracy. "
   ]
  },
  {
   "cell_type": "markdown",
   "id": "af426dcd",
   "metadata": {},
   "source": [
    "### Logistic Regression with first 13 features"
   ]
  },
  {
   "cell_type": "code",
   "execution_count": 22,
   "id": "e12083bf",
   "metadata": {},
   "outputs": [
    {
     "name": "stdout",
     "output_type": "stream",
     "text": [
      "Logistic Regression accuracy score with the first 13 features: 0.8213\n"
     ]
    }
   ],
   "source": [
    "X = df.drop(['income','native.country'], axis=1)\n",
    "y = df['income']\n",
    "\n",
    "\n",
    "X_train, X_test, y_train, y_test = train_test_split(X, y, test_size = 0.3, random_state = 0)\n",
    "\n",
    "\n",
    "categorical = ['workclass', 'education', 'marital.status', 'occupation', 'relationship', 'race', 'sex']\n",
    "for feature in categorical:\n",
    "        le = preprocessing.LabelEncoder()\n",
    "        X_train[feature] = le.fit_transform(X_train[feature])\n",
    "        X_test[feature] = le.transform(X_test[feature])\n",
    "\n",
    "\n",
    "X_train = pd.DataFrame(scaler.fit_transform(X_train), columns = X.columns)\n",
    "\n",
    "X_test = pd.DataFrame(scaler.transform(X_test), columns = X.columns)\n",
    "\n",
    "logreg = LogisticRegression()\n",
    "logreg.fit(X_train, y_train)\n",
    "y_pred = logreg.predict(X_test)\n",
    "\n",
    "print('Logistic Regression accuracy score with the first 13 features: {0:0.4f}'. format(accuracy_score(y_test, y_pred)))\n"
   ]
  },
  {
   "cell_type": "markdown",
   "id": "b685a979",
   "metadata": {},
   "source": [
    "### Comment\n",
    "\n",
    "- We can see that accuracy has been decreased from 0.8218 to 0.8213 after dropping the last feature.\n",
    "\n",
    "- Now, if I take the last two features combined, then we can see that approximately 7% of variance is explained by them.\n",
    "\n",
    "- I will drop them, train the model again and calculate the accuracy.\n"
   ]
  },
  {
   "cell_type": "markdown",
   "id": "e2210aa1",
   "metadata": {},
   "source": [
    "### Logistic Regression with first 12 features"
   ]
  },
  {
   "cell_type": "code",
   "execution_count": 23,
   "id": "0ba3ec56",
   "metadata": {},
   "outputs": [
    {
     "name": "stdout",
     "output_type": "stream",
     "text": [
      "Logistic Regression accuracy score with the first 12 features: 0.8227\n"
     ]
    }
   ],
   "source": [
    "X = df.drop(['income','native.country', 'hours.per.week'], axis=1)\n",
    "y = df['income']\n",
    "\n",
    "\n",
    "X_train, X_test, y_train, y_test = train_test_split(X, y, test_size = 0.3, random_state = 0)\n",
    "\n",
    "\n",
    "categorical = ['workclass', 'education', 'marital.status', 'occupation', 'relationship', 'race', 'sex']\n",
    "for feature in categorical:\n",
    "        le = preprocessing.LabelEncoder()\n",
    "        X_train[feature] = le.fit_transform(X_train[feature])\n",
    "        X_test[feature] = le.transform(X_test[feature])\n",
    "\n",
    "\n",
    "X_train = pd.DataFrame(scaler.fit_transform(X_train), columns = X.columns)\n",
    "\n",
    "X_test = pd.DataFrame(scaler.transform(X_test), columns = X.columns)\n",
    "\n",
    "logreg = LogisticRegression()\n",
    "logreg.fit(X_train, y_train)\n",
    "y_pred = logreg.predict(X_test)\n",
    "\n",
    "print('Logistic Regression accuracy score with the first 12 features: {0:0.4f}'. format(accuracy_score(y_test, y_pred)))"
   ]
  },
  {
   "cell_type": "markdown",
   "id": "26766aa4",
   "metadata": {},
   "source": [
    "### Comment\n",
    "\n",
    "- Now, it can be seen that the accuracy has been increased to 0.8227, if the model is trained with 12 features.\n",
    "\n",
    "- Lastly, I will take the last three features combined. Approximately 11.83% of variance is explained by them.\n",
    "\n",
    "- I will repeat the process, drop these features, train the model again and calculate the accuracy.\n"
   ]
  },
  {
   "cell_type": "markdown",
   "id": "3555affc",
   "metadata": {},
   "source": [
    "### Logistic Regression with first 11 features"
   ]
  },
  {
   "cell_type": "code",
   "execution_count": 26,
   "id": "f4edc2c0",
   "metadata": {},
   "outputs": [
    {
     "name": "stdout",
     "output_type": "stream",
     "text": [
      "Logistic Regression accuracy score with the first 11 features: 0.8186\n"
     ]
    }
   ],
   "source": [
    "X = df.drop(['income','native.country', 'hours.per.week', 'capital.loss'], axis=1)\n",
    "y = df['income']\n",
    "\n",
    "\n",
    "X_train, X_test, y_train, y_test = train_test_split(X, y, test_size = 0.3, random_state = 0)\n",
    "\n",
    "\n",
    "categorical = ['workclass', 'education', 'marital.status', 'occupation', 'relationship', 'race', 'sex']\n",
    "for feature in categorical:\n",
    "        le = preprocessing.LabelEncoder()\n",
    "        X_train[feature] = le.fit_transform(X_train[feature])\n",
    "        X_test[feature] = le.transform(X_test[feature])\n",
    "\n",
    "\n",
    "X_train = pd.DataFrame(scaler.fit_transform(X_train), columns = X.columns)\n",
    "\n",
    "X_test = pd.DataFrame(scaler.transform(X_test), columns = X.columns)\n",
    "\n",
    "logreg = LogisticRegression()\n",
    "logreg.fit(X_train, y_train)\n",
    "y_pred = logreg.predict(X_test)\n",
    "\n",
    "print('Logistic Regression accuracy score with the first 11 features: {0:0.4f}'. format(accuracy_score(y_test, y_pred)))"
   ]
  },
  {
   "cell_type": "markdown",
   "id": "7a7f21fc",
   "metadata": {},
   "source": [
    "### Comment\n",
    "\n",
    "- We can see that accuracy has significantly decreased to 0.8187 if I drop the last three features.\n",
    "\n",
    "- Our aim is to maximize the accuracy. We get maximum accuracy with the first 12 features and the accuracy is 0.8227."
   ]
  },
  {
   "cell_type": "markdown",
   "id": "0d2d5cb1",
   "metadata": {},
   "source": [
    "## Select right number of dimensions\n",
    "\n",
    "- The above process works well if the number of dimensions are small.\n",
    "\n",
    "- But, it is quite cumbersome if we have large number of dimensions.\n",
    "\n",
    "- In that case, a better approach is to compute the number of dimensions that can explain significantly large portion of the \n",
    "variance.\n",
    "\n",
    "- The following code computes PCA without reducing dimensionality, then computes the minimum number of dimensions required to \n",
    "preserve 90% of the training set variance."
   ]
  },
  {
   "cell_type": "code",
   "execution_count": 29,
   "id": "63953731",
   "metadata": {},
   "outputs": [
    {
     "name": "stdout",
     "output_type": "stream",
     "text": [
      "The number of dimensions required to preserve 90% of variance is 12\n"
     ]
    }
   ],
   "source": [
    "X = df.drop(['income'], axis=1)\n",
    "y = df['income']\n",
    "\n",
    "\n",
    "X_train, X_test, y_train, y_test = train_test_split(X, y, test_size = 0.3, random_state = 0)\n",
    "\n",
    "\n",
    "categorical = ['workclass', 'education', 'marital.status', 'occupation', 'relationship', 'race', 'sex', 'native.country']\n",
    "for feature in categorical:\n",
    "        le = preprocessing.LabelEncoder()\n",
    "        X_train[feature] = le.fit_transform(X_train[feature])\n",
    "        X_test[feature] = le.transform(X_test[feature])\n",
    "\n",
    "\n",
    "X_train = pd.DataFrame(scaler.fit_transform(X_train), columns = X.columns)\n",
    "\n",
    "\n",
    "pca= PCA()\n",
    "pca.fit(X_train)\n",
    "cumsum = np.cumsum(pca.explained_variance_ratio_)\n",
    "dim = np.argmax(cumsum >= 0.90) + 1\n",
    "print('The number of dimensions required to preserve 90% of variance is',dim)"
   ]
  },
  {
   "cell_type": "markdown",
   "id": "6828bf96",
   "metadata": {},
   "source": [
    "### Comment\n",
    "\n",
    "- With the required number of dimensions found, we can then set number of dimensions to `dim` and run PCA again.\n",
    "\n",
    "- With the number of dimensions set to `dim`, we can then calculate the required accuracy."
   ]
  },
  {
   "cell_type": "markdown",
   "id": "fd306baa",
   "metadata": {},
   "source": [
    "## Plot explained variance ratio with number of dimensions\n",
    "\n",
    "- An alternative option is to plot the explained variance as a function of the number of dimensions.\n",
    "\n",
    "- In the plot, we should look for an elbow where the explained variance stops growing fast.\n",
    "\n",
    "- This can be thought of as the intrinsic dimensionality of the dataset.\n",
    "\n",
    "- Now, I will plot cumulative explained variance ratio with number of components to show how variance ratio varies with number of \n",
    "components."
   ]
  },
  {
   "cell_type": "code",
   "execution_count": 34,
   "id": "dfea5877",
   "metadata": {},
   "outputs": [
    {
     "data": {
      "image/png": "[encoded data removed]",
      "text/plain": [
       "<Figure size 800x600 with 1 Axes>"
      ]
     },
     "metadata": {},
     "output_type": "display_data"
    }
   ],
   "source": [
    "plt.figure(figsize=(8,6))\n",
    "plt.plot(np.cumsum(pca.explained_variance_ratio_))\n",
    "plt.xlim(0,14)\n",
    "plt.xlabel('Number of components')\n",
    "plt.ylabel('Cumulative explained variance')\n",
    "plt.show()"
   ]
  },
  {
   "cell_type": "markdown",
   "id": "73a795e8",
   "metadata": {},
   "source": [
    "### Comment\n",
    "\n",
    "The above plot shows that almost 90% of variance is explained by the first 12 components"
   ]
  },
  {
   "cell_type": "markdown",
   "id": "842f64d8",
   "metadata": {},
   "source": [
    "## Conclusion\n",
    "\n",
    "-\tIn this kernel, I have discussed Principal Component Analysis – the most popular dimensionality reduction technique.\n",
    "-\tI have demonstrated PCA implementation with Logistic Regression on the adult dataset.\n",
    "-\tI found the maximum accuracy with the first 12 features and it is found to be 0.8227.\n",
    "-\tAs expected, the number of dimensions required to preserve 90 % of variance is found to be 12.\n",
    "-\tFinally, I plot the explained variance ratio with number of dimensions. The graph confirms that approximately 90% of variance is \n",
    "explained by the first 12 components.\n"
   ]
  }
 ],
 "metadata": {
  "kernelspec": {
   "display_name": "base",
   "language": "python",
   "name": "python3"
  },
  "language_info": {
   "codemirror_mode": {
    "name": "ipython",
    "version": 3
   },
   "file_extension": ".py",
   "mimetype": "text/x-python",
   "name": "python",
   "nbconvert_exporter": "python",
   "pygments_lexer": "ipython3",
   "version": "3.12.7"
  }
 },
 "nbformat": 4,
 "nbformat_minor": 5
}
